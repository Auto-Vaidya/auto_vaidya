{
  "nbformat": 4,
  "nbformat_minor": 0,
  "metadata": {
    "colab": {
      "name": "Skin- Cancer-Detection",
      "provenance": []
    },
    "kernelspec": {
      "name": "python3",
      "display_name": "Python 3"
    }
  },
  "cells": [
    {
      "cell_type": "code",
      "metadata": {
        "id": "Fpn_NVNEBw88",
        "colab_type": "code",
        "colab": {}
      },
      "source": [
        "import numpy as np\n",
        "import tensorflow as tf\n",
        "import keras"
      ],
      "execution_count": null,
      "outputs": []
    },
    {
      "cell_type": "markdown",
      "metadata": {
        "id": "O74wA6G585kL",
        "colab_type": "text"
      },
      "source": [
        "**Loading the data using Kaggle API**\n",
        "\n",
        "\n",
        "\n"
      ]
    },
    {
      "cell_type": "code",
      "metadata": {
        "id": "c0crjiQ4IOXZ",
        "colab_type": "code",
        "colab": {}
      },
      "source": [
        "#Install kaggle library\n",
        "!pip install kaggle\n",
        "#Make a directory called .kaggle which makes it invisible\n",
        "!mkdir ~/.kaggle \n",
        "import json\n",
        "token = {\"username\":\"--name--\",\"key\":\"--key---\"}\n",
        "with open('/content/.kaggle/kaggle.json', 'w') as file:\n",
        "    json.dump(token, file)\n",
        "   \n",
        "!cp /content/.kaggle/kaggle.json ~/.kaggle/kaggle.json\n",
        "!kaggle config set -n path -v{/content}\n",
        "!chmod 600 /root/.kaggle/kaggle.json"
      ],
      "execution_count": null,
      "outputs": []
    },
    {
      "cell_type": "code",
      "metadata": {
        "id": "9vN4LdnRlZFD",
        "colab_type": "code",
        "colab": {}
      },
      "source": [
        "!mkdir data\n",
        "!kaggle datasets download kmader/skin-cancer-mnist-ham10000 -p data\n",
        "!apt install unzip\n",
        "!mkdir HAM10000_images_part_1 \n",
        "!mkdir HAM10000_images_part_2\n",
        "!unzip /content/data/skin-cancer-mnist-ham10000.zip -d /content\n",
        "\n",
        "!unzip /content/data/HAM10000_images_part_1.zip -d HAM10000_images_part_1 \n",
        "!unzip /content/data/HAM10000_images_part_2.zip -d HAM10000_images_part_2\n",
        "\n",
        "!echo files in /content/data: `ls data | wc -l`"
      ],
      "execution_count": null,
      "outputs": []
    },
    {
      "cell_type": "markdown",
      "metadata": {
        "id": "AGof0lWr9WP3",
        "colab_type": "text"
      },
      "source": [
        "**Format of the data set**\n",
        "1.   Two Folders of Images\n",
        "2.   csv file containing classes of all images\n",
        "3.   There are 7 classes "
      ]
    },
    {
      "cell_type": "code",
      "metadata": {
        "id": "ntHEJWSlmJYi",
        "colab_type": "code",
        "colab": {}
      },
      "source": [
        "import os \n",
        "import errno\n",
        "base_dir = 'base_dir'\n",
        "image_class = ['nv','mel','bkl','bcc','akiec','vasc','df']\n",
        "#3 folders are made: base_dir, train_dir and val_dir\n",
        "try:\n",
        "    os.mkdir(base_dir)\n",
        "    \n",
        "except OSError as exc:\n",
        "    if exc.errno != errno.EEXIST:\n",
        "        raise\n",
        "    pass\n",
        "train_dir = os.path.join(base_dir, 'train_dir')\n",
        "try:\n",
        "  os.mkdir(train_dir)\n",
        "except OSError as exc:\n",
        "    if exc.errno != errno.EEXIST:\n",
        "        raise\n",
        "    pass\n",
        "val_dir = os.path.join(base_dir, 'val_dir')\n",
        "try: \n",
        "  os.mkdir(val_dir)\n",
        "  \n",
        "except OSError as exc:\n",
        "    if exc.errno != errno.EEXIST:\n",
        "        raise\n",
        "    pass\n",
        "#make sub directories for the labels\n",
        "for x in image_class:\n",
        "      os.mkdir(train_dir+'/'+x)\n",
        "for x in image_class:\n",
        "      os.mkdir(val_dir+'/'+x)"
      ],
      "execution_count": 14,
      "outputs": []
    },
    {
      "cell_type": "code",
      "metadata": {
        "id": "ve77MyFHq7Zq",
        "colab_type": "code",
        "colab": {}
      },
      "source": [
        "import pandas as pd\n",
        "import shutil\n",
        "df = pd.read_csv('/content/HAM10000_metadata.csv')\n",
        "\n",
        "# Set y as the labels\n",
        "y = df['dx']\n",
        "#split data\n",
        "from sklearn.model_selection import train_test_split\n",
        "df_train, df_val = train_test_split(df, test_size=0.1, random_state=101, stratify=y)\n",
        "\n",
        "# Transfer the images into folders, Set the image id as the index\n",
        "image_index = df.set_index('image_id', inplace=True)\n",
        "\n",
        "# Get a list of images in each of the two folders\n",
        "folder_1 = os.listdir('HAM10000_images_part_1')\n",
        "folder_2 = os.listdir('HAM10000_images_part_2')\n",
        "\n",
        "# Get a list of train and val images\n",
        "train_list = list(df_train['image_id'])\n",
        "val_list = list(df_val['image_id'])\n",
        "\n",
        "# Transfer the training images\n",
        "for image in train_list:\n",
        "  fname = image + '.jpg'\n",
        "  if fname in folder_1:\n",
        "    #the source path\n",
        "    src = os.path.join('HAM10000_images_part_1', fname)\n",
        "    #the destination path\n",
        "    dst = os.path.join(train_dir+'/'+df['dx'][image], fname)\n",
        "    print(dst)   \n",
        "    shutil.copyfile(src, dst)\n",
        "  if fname in folder_2:\n",
        "    #the source path\n",
        "    src = os.path.join('HAM10000_images_part_2', fname)\n",
        "    #the destination path\n",
        "    dst = os.path.join(train_dir, fname)\n",
        "    shutil.copyfile(src, dst)\n",
        "\n",
        "# Transfer the validation images\n",
        "for image in val_list:\n",
        "  fname = image + '.jpg'\n",
        "  if fname in folder_1:\n",
        "    #the source path\n",
        "    src = os.path.join('HAM10000_images_part_1', fname)\n",
        "    #the destination path\n",
        "    dst = os.path.join(val_dir+'/'+df['dx'][image], fname)\n",
        "  \n",
        "    shutil.copyfile(src, dst)\n",
        "        \n",
        "  if fname in folder_2:\n",
        "    #the source path\n",
        "    src = os.path.join('HAM10000_images_part_2', fname)\n",
        "    # destination path to image\n",
        "    dst = os.path.join(val_dir, fname)\n",
        "    # copy the image from the source to the destination\n",
        "    shutil.copyfile(src, dst)\n"
      ],
      "execution_count": null,
      "outputs": []
    },
    {
      "cell_type": "markdown",
      "metadata": {
        "id": "8lk6UmT6-W-G",
        "colab_type": "text"
      },
      "source": [
        "# **Preprocessing**"
      ]
    },
    {
      "cell_type": "code",
      "metadata": {
        "id": "H1a_qF44rKag",
        "colab_type": "code",
        "colab": {}
      },
      "source": [
        "from keras.preprocessing.image import ImageDataGenerator\n",
        "import keras \n",
        "print(df.head())\n",
        "image_class = ['nv','mel','bkl','bcc','akiec','vasc','df']\n",
        "train_path = 'base_dir/train_dir/'\n",
        "valid_path = 'base_dir/val_dir/'\n",
        "\n",
        "image_shape = 224\n",
        "train_datagen  = ImageDataGenerator(rescale=1./255)\n",
        "val_datagen  = ImageDataGenerator(rescale=1./255)\n",
        "#declares data generator for train and val batches\n",
        "train_batches = train_datagen.flow_from_directory(train_path, \n",
        "                                                        target_size = (image_shape,image_shape),\n",
        "                                                        classes = image_class,\n",
        "                                                        batch_size = 64\n",
        "                                                        )\n",
        "valid_batches = val_datagen.flow_from_directory(valid_path, \n",
        "                                                        target_size = (image_shape,image_shape),\n",
        "                                                        classes = image_class,\n",
        "                                                        batch_size = 64                                                      )"
      ],
      "execution_count": null,
      "outputs": []
    },
    {
      "cell_type": "markdown",
      "metadata": {
        "id": "L48G8HIV-hJS",
        "colab_type": "text"
      },
      "source": [
        "# ***Training***"
      ]
    },
    {
      "cell_type": "code",
      "metadata": {
        "id": "ARHIqsn-vC0F",
        "colab_type": "code",
        "colab": {
          "base_uri": "https://localhost:8080/",
          "height": 1000
        },
        "outputId": "c12267fb-0c71-46a0-ad35-e55df0865eb0"
      },
      "source": [
        "from keras.models import Sequential\n",
        "from keras.layers import Dense, Activation\n",
        "from keras.layers import Conv2D, MaxPool2D, Dropout, Flatten \n",
        "from keras.callbacks import ReduceLROnPlateau\n",
        "from keras.models import Model\n",
        "import tensorflow as tf\n",
        "mobile = keras.applications.mobilenet.MobileNet()#transfer learning\n",
        "x = mobile.layers[-6].output\n",
        "# Add a dropout and dense layer for predictions\n",
        "x = Dropout(0.25)(x)\n",
        "predictions = Dense(7, activation='softmax')(x)\n",
        "print(mobile.input)\n",
        "net = Model(inputs=mobile.input, outputs=predictions)\n",
        "mobile.summary()\n",
        "for layer in net.layers[:-23]:\n",
        "  layer.trainable = False\n",
        "net.compile(optimizer='adam',\n",
        "  loss='categorical_crossentropy',\n",
        "  metrics=['accuracy',tf.keras.metrics.TrueNegatives() , tf.keras.metrics.FalsePositives() , tf.keras.metrics.FalseNegatives() , tf.keras.metrics.TruePositives()])\n",
        "learning_rate_reduction = ReduceLROnPlateau(monitor='val_acc', patience=3, verbose=1, factor=0.5, min_lr=0.00001)\n",
        "history = net.fit_generator(train_batches, epochs=10)"
      ],
      "execution_count": 39,
      "outputs": [
        {
          "output_type": "stream",
          "text": [
            "Tensor(\"input_3:0\", shape=(None, 224, 224, 3), dtype=float32)\n",
            "Model: \"mobilenet_1.00_224\"\n",
            "_________________________________________________________________\n",
            "Layer (type)                 Output Shape              Param #   \n",
            "=================================================================\n",
            "input_3 (InputLayer)         [(None, 224, 224, 3)]     0         \n",
            "_________________________________________________________________\n",
            "conv1_pad (ZeroPadding2D)    (None, 225, 225, 3)       0         \n",
            "_________________________________________________________________\n",
            "conv1 (Conv2D)               (None, 112, 112, 32)      864       \n",
            "_________________________________________________________________\n",
            "conv1_bn (BatchNormalization (None, 112, 112, 32)      128       \n",
            "_________________________________________________________________\n",
            "conv1_relu (ReLU)            (None, 112, 112, 32)      0         \n",
            "_________________________________________________________________\n",
            "conv_dw_1 (DepthwiseConv2D)  (None, 112, 112, 32)      288       \n",
            "_________________________________________________________________\n",
            "conv_dw_1_bn (BatchNormaliza (None, 112, 112, 32)      128       \n",
            "_________________________________________________________________\n",
            "conv_dw_1_relu (ReLU)        (None, 112, 112, 32)      0         \n",
            "_________________________________________________________________\n",
            "conv_pw_1 (Conv2D)           (None, 112, 112, 64)      2048      \n",
            "_________________________________________________________________\n",
            "conv_pw_1_bn (BatchNormaliza (None, 112, 112, 64)      256       \n",
            "_________________________________________________________________\n",
            "conv_pw_1_relu (ReLU)        (None, 112, 112, 64)      0         \n",
            "_________________________________________________________________\n",
            "conv_pad_2 (ZeroPadding2D)   (None, 113, 113, 64)      0         \n",
            "_________________________________________________________________\n",
            "conv_dw_2 (DepthwiseConv2D)  (None, 56, 56, 64)        576       \n",
            "_________________________________________________________________\n",
            "conv_dw_2_bn (BatchNormaliza (None, 56, 56, 64)        256       \n",
            "_________________________________________________________________\n",
            "conv_dw_2_relu (ReLU)        (None, 56, 56, 64)        0         \n",
            "_________________________________________________________________\n",
            "conv_pw_2 (Conv2D)           (None, 56, 56, 128)       8192      \n",
            "_________________________________________________________________\n",
            "conv_pw_2_bn (BatchNormaliza (None, 56, 56, 128)       512       \n",
            "_________________________________________________________________\n",
            "conv_pw_2_relu (ReLU)        (None, 56, 56, 128)       0         \n",
            "_________________________________________________________________\n",
            "conv_dw_3 (DepthwiseConv2D)  (None, 56, 56, 128)       1152      \n",
            "_________________________________________________________________\n",
            "conv_dw_3_bn (BatchNormaliza (None, 56, 56, 128)       512       \n",
            "_________________________________________________________________\n",
            "conv_dw_3_relu (ReLU)        (None, 56, 56, 128)       0         \n",
            "_________________________________________________________________\n",
            "conv_pw_3 (Conv2D)           (None, 56, 56, 128)       16384     \n",
            "_________________________________________________________________\n",
            "conv_pw_3_bn (BatchNormaliza (None, 56, 56, 128)       512       \n",
            "_________________________________________________________________\n",
            "conv_pw_3_relu (ReLU)        (None, 56, 56, 128)       0         \n",
            "_________________________________________________________________\n",
            "conv_pad_4 (ZeroPadding2D)   (None, 57, 57, 128)       0         \n",
            "_________________________________________________________________\n",
            "conv_dw_4 (DepthwiseConv2D)  (None, 28, 28, 128)       1152      \n",
            "_________________________________________________________________\n",
            "conv_dw_4_bn (BatchNormaliza (None, 28, 28, 128)       512       \n",
            "_________________________________________________________________\n",
            "conv_dw_4_relu (ReLU)        (None, 28, 28, 128)       0         \n",
            "_________________________________________________________________\n",
            "conv_pw_4 (Conv2D)           (None, 28, 28, 256)       32768     \n",
            "_________________________________________________________________\n",
            "conv_pw_4_bn (BatchNormaliza (None, 28, 28, 256)       1024      \n",
            "_________________________________________________________________\n",
            "conv_pw_4_relu (ReLU)        (None, 28, 28, 256)       0         \n",
            "_________________________________________________________________\n",
            "conv_dw_5 (DepthwiseConv2D)  (None, 28, 28, 256)       2304      \n",
            "_________________________________________________________________\n",
            "conv_dw_5_bn (BatchNormaliza (None, 28, 28, 256)       1024      \n",
            "_________________________________________________________________\n",
            "conv_dw_5_relu (ReLU)        (None, 28, 28, 256)       0         \n",
            "_________________________________________________________________\n",
            "conv_pw_5 (Conv2D)           (None, 28, 28, 256)       65536     \n",
            "_________________________________________________________________\n",
            "conv_pw_5_bn (BatchNormaliza (None, 28, 28, 256)       1024      \n",
            "_________________________________________________________________\n",
            "conv_pw_5_relu (ReLU)        (None, 28, 28, 256)       0         \n",
            "_________________________________________________________________\n",
            "conv_pad_6 (ZeroPadding2D)   (None, 29, 29, 256)       0         \n",
            "_________________________________________________________________\n",
            "conv_dw_6 (DepthwiseConv2D)  (None, 14, 14, 256)       2304      \n",
            "_________________________________________________________________\n",
            "conv_dw_6_bn (BatchNormaliza (None, 14, 14, 256)       1024      \n",
            "_________________________________________________________________\n",
            "conv_dw_6_relu (ReLU)        (None, 14, 14, 256)       0         \n",
            "_________________________________________________________________\n",
            "conv_pw_6 (Conv2D)           (None, 14, 14, 512)       131072    \n",
            "_________________________________________________________________\n",
            "conv_pw_6_bn (BatchNormaliza (None, 14, 14, 512)       2048      \n",
            "_________________________________________________________________\n",
            "conv_pw_6_relu (ReLU)        (None, 14, 14, 512)       0         \n",
            "_________________________________________________________________\n",
            "conv_dw_7 (DepthwiseConv2D)  (None, 14, 14, 512)       4608      \n",
            "_________________________________________________________________\n",
            "conv_dw_7_bn (BatchNormaliza (None, 14, 14, 512)       2048      \n",
            "_________________________________________________________________\n",
            "conv_dw_7_relu (ReLU)        (None, 14, 14, 512)       0         \n",
            "_________________________________________________________________\n",
            "conv_pw_7 (Conv2D)           (None, 14, 14, 512)       262144    \n",
            "_________________________________________________________________\n",
            "conv_pw_7_bn (BatchNormaliza (None, 14, 14, 512)       2048      \n",
            "_________________________________________________________________\n",
            "conv_pw_7_relu (ReLU)        (None, 14, 14, 512)       0         \n",
            "_________________________________________________________________\n",
            "conv_dw_8 (DepthwiseConv2D)  (None, 14, 14, 512)       4608      \n",
            "_________________________________________________________________\n",
            "conv_dw_8_bn (BatchNormaliza (None, 14, 14, 512)       2048      \n",
            "_________________________________________________________________\n",
            "conv_dw_8_relu (ReLU)        (None, 14, 14, 512)       0         \n",
            "_________________________________________________________________\n",
            "conv_pw_8 (Conv2D)           (None, 14, 14, 512)       262144    \n",
            "_________________________________________________________________\n",
            "conv_pw_8_bn (BatchNormaliza (None, 14, 14, 512)       2048      \n",
            "_________________________________________________________________\n",
            "conv_pw_8_relu (ReLU)        (None, 14, 14, 512)       0         \n",
            "_________________________________________________________________\n",
            "conv_dw_9 (DepthwiseConv2D)  (None, 14, 14, 512)       4608      \n",
            "_________________________________________________________________\n",
            "conv_dw_9_bn (BatchNormaliza (None, 14, 14, 512)       2048      \n",
            "_________________________________________________________________\n",
            "conv_dw_9_relu (ReLU)        (None, 14, 14, 512)       0         \n",
            "_________________________________________________________________\n",
            "conv_pw_9 (Conv2D)           (None, 14, 14, 512)       262144    \n",
            "_________________________________________________________________\n",
            "conv_pw_9_bn (BatchNormaliza (None, 14, 14, 512)       2048      \n",
            "_________________________________________________________________\n",
            "conv_pw_9_relu (ReLU)        (None, 14, 14, 512)       0         \n",
            "_________________________________________________________________\n",
            "conv_dw_10 (DepthwiseConv2D) (None, 14, 14, 512)       4608      \n",
            "_________________________________________________________________\n",
            "conv_dw_10_bn (BatchNormaliz (None, 14, 14, 512)       2048      \n",
            "_________________________________________________________________\n",
            "conv_dw_10_relu (ReLU)       (None, 14, 14, 512)       0         \n",
            "_________________________________________________________________\n",
            "conv_pw_10 (Conv2D)          (None, 14, 14, 512)       262144    \n",
            "_________________________________________________________________\n",
            "conv_pw_10_bn (BatchNormaliz (None, 14, 14, 512)       2048      \n",
            "_________________________________________________________________\n",
            "conv_pw_10_relu (ReLU)       (None, 14, 14, 512)       0         \n",
            "_________________________________________________________________\n",
            "conv_dw_11 (DepthwiseConv2D) (None, 14, 14, 512)       4608      \n",
            "_________________________________________________________________\n",
            "conv_dw_11_bn (BatchNormaliz (None, 14, 14, 512)       2048      \n",
            "_________________________________________________________________\n",
            "conv_dw_11_relu (ReLU)       (None, 14, 14, 512)       0         \n",
            "_________________________________________________________________\n",
            "conv_pw_11 (Conv2D)          (None, 14, 14, 512)       262144    \n",
            "_________________________________________________________________\n",
            "conv_pw_11_bn (BatchNormaliz (None, 14, 14, 512)       2048      \n",
            "_________________________________________________________________\n",
            "conv_pw_11_relu (ReLU)       (None, 14, 14, 512)       0         \n",
            "_________________________________________________________________\n",
            "conv_pad_12 (ZeroPadding2D)  (None, 15, 15, 512)       0         \n",
            "_________________________________________________________________\n",
            "conv_dw_12 (DepthwiseConv2D) (None, 7, 7, 512)         4608      \n",
            "_________________________________________________________________\n",
            "conv_dw_12_bn (BatchNormaliz (None, 7, 7, 512)         2048      \n",
            "_________________________________________________________________\n",
            "conv_dw_12_relu (ReLU)       (None, 7, 7, 512)         0         \n",
            "_________________________________________________________________\n",
            "conv_pw_12 (Conv2D)          (None, 7, 7, 1024)        524288    \n",
            "_________________________________________________________________\n",
            "conv_pw_12_bn (BatchNormaliz (None, 7, 7, 1024)        4096      \n",
            "_________________________________________________________________\n",
            "conv_pw_12_relu (ReLU)       (None, 7, 7, 1024)        0         \n",
            "_________________________________________________________________\n",
            "conv_dw_13 (DepthwiseConv2D) (None, 7, 7, 1024)        9216      \n",
            "_________________________________________________________________\n",
            "conv_dw_13_bn (BatchNormaliz (None, 7, 7, 1024)        4096      \n",
            "_________________________________________________________________\n",
            "conv_dw_13_relu (ReLU)       (None, 7, 7, 1024)        0         \n",
            "_________________________________________________________________\n",
            "conv_pw_13 (Conv2D)          (None, 7, 7, 1024)        1048576   \n",
            "_________________________________________________________________\n",
            "conv_pw_13_bn (BatchNormaliz (None, 7, 7, 1024)        4096      \n",
            "_________________________________________________________________\n",
            "conv_pw_13_relu (ReLU)       (None, 7, 7, 1024)        0         \n",
            "_________________________________________________________________\n",
            "global_average_pooling2d_2 ( (None, 1024)              0         \n",
            "_________________________________________________________________\n",
            "reshape_1 (Reshape)          (None, 1, 1, 1024)        0         \n",
            "_________________________________________________________________\n",
            "dropout (Dropout)            (None, 1, 1, 1024)        0         \n",
            "_________________________________________________________________\n",
            "conv_preds (Conv2D)          (None, 1, 1, 1000)        1025000   \n",
            "_________________________________________________________________\n",
            "reshape_2 (Reshape)          (None, 1000)              0         \n",
            "_________________________________________________________________\n",
            "predictions (Activation)     (None, 1000)              0         \n",
            "=================================================================\n",
            "Total params: 4,253,864\n",
            "Trainable params: 4,231,976\n",
            "Non-trainable params: 21,888\n",
            "_________________________________________________________________\n",
            "Epoch 1/10\n",
            "70/70 [==============================] - 289s 4s/step - loss: 0.8872 - accuracy: 0.7290 - true_negatives_1: 26059.0000 - false_positives_1: 815.0000 - false_negatives_1: 1450.0000 - true_positives_1: 3029.0000\n",
            "Epoch 2/10\n",
            "70/70 [==============================] - 288s 4s/step - loss: 0.4371 - accuracy: 0.8406 - true_negatives_1: 26394.0000 - false_positives_1: 480.0000 - false_negatives_1: 880.0000 - true_positives_1: 3599.0000\n",
            "Epoch 3/10\n",
            "70/70 [==============================] - 284s 4s/step - loss: 0.2815 - accuracy: 0.9013 - true_negatives_1: 26549.0000 - false_positives_1: 325.0000 - false_negatives_1: 549.0000 - true_positives_1: 3930.0000\n",
            "Epoch 4/10\n",
            "70/70 [==============================] - 280s 4s/step - loss: 0.1524 - accuracy: 0.9478 - true_negatives_1: 26681.0000 - false_positives_1: 193.0000 - false_negatives_1: 273.0000 - true_positives_1: 4206.0000\n",
            "Epoch 5/10\n",
            "70/70 [==============================] - 282s 4s/step - loss: 0.1015 - accuracy: 0.9649 - true_negatives_1: 26741.0000 - false_positives_1: 133.0000 - false_negatives_1: 182.0000 - true_positives_1: 4297.0000\n",
            "Epoch 6/10\n",
            "70/70 [==============================] - 279s 4s/step - loss: 0.0705 - accuracy: 0.9797 - true_negatives_1: 26795.0000 - false_positives_1: 79.0000 - false_negatives_1: 102.0000 - true_positives_1: 4377.0000\n",
            "Epoch 7/10\n",
            "70/70 [==============================] - 281s 4s/step - loss: 0.0571 - accuracy: 0.9817 - true_negatives_1: 26799.0000 - false_positives_1: 75.0000 - false_negatives_1: 91.0000 - true_positives_1: 4388.0000\n",
            "Epoch 8/10\n",
            "70/70 [==============================] - 279s 4s/step - loss: 0.0359 - accuracy: 0.9888 - true_negatives_1: 26831.0000 - false_positives_1: 43.0000 - false_negatives_1: 57.0000 - true_positives_1: 4422.0000\n",
            "Epoch 9/10\n",
            "70/70 [==============================] - 275s 4s/step - loss: 0.0280 - accuracy: 0.9922 - true_negatives_1: 26842.0000 - false_positives_1: 32.0000 - false_negatives_1: 36.0000 - true_positives_1: 4443.0000\n",
            "Epoch 10/10\n",
            "70/70 [==============================] - 275s 4s/step - loss: 0.0344 - accuracy: 0.9893 - true_negatives_1: 26828.0000 - false_positives_1: 46.0000 - false_negatives_1: 53.0000 - true_positives_1: 4426.0000\n"
          ],
          "name": "stdout"
        }
      ]
    },
    {
      "cell_type": "code",
      "metadata": {
        "id": "nO3hA0hXvNsW",
        "colab_type": "code",
        "colab": {
          "base_uri": "https://localhost:8080/",
          "height": 55
        },
        "outputId": "9d38b3ff-074a-484f-89a0-a5fc20ac7300"
      },
      "source": [
        "validation = net.evaluate(valid_batches)"
      ],
      "execution_count": 40,
      "outputs": [
        {
          "output_type": "stream",
          "text": [
            "9/9 [==============================] - 17s 2s/step - loss: 1.1687 - accuracy: 0.7620 - true_negatives_1: 3011.0000 - false_positives_1: 115.0000 - false_negatives_1: 132.0000 - true_positives_1: 389.0000\n"
          ],
          "name": "stdout"
        }
      ]
    },
    {
      "cell_type": "code",
      "metadata": {
        "id": "tiX-I5PG5yqR",
        "colab_type": "code",
        "colab": {
          "base_uri": "https://localhost:8080/",
          "height": 35
        },
        "outputId": "3c1b8fc7-a5bb-4def-aa76-b2bf4f257098"
      },
      "source": [
        "#saving the model \n",
        "net.save('skin-cancer-detection-mobilenet')"
      ],
      "execution_count": 31,
      "outputs": [
        {
          "output_type": "stream",
          "text": [
            "INFO:tensorflow:Assets written to: skin-cancer-detection-mobilenet/assets\n"
          ],
          "name": "stdout"
        }
      ]
    },
    {
      "cell_type": "code",
      "metadata": {
        "id": "l_LzN4M-6X_J",
        "colab_type": "code",
        "colab": {}
      },
      "source": [
        "#loading the model\n",
        "model = keras.models.load_model('skin-cancer-detection-mobilenet')"
      ],
      "execution_count": 25,
      "outputs": []
    },
    {
      "cell_type": "code",
      "metadata": {
        "id": "aZeZ8f6cHS6J",
        "colab_type": "code",
        "colab": {}
      },
      "source": [
        "#HOW TO TEST ON SOME RANDOM IMAGE\n",
        "import cv2\n",
        "import numpy as np\n",
        "\n",
        "img = cv2.imread('IMG_20200920_111508754.jpg')\n",
        "img = cv2.resize(img,(224,224))\n",
        "img = np.expand_dims(img,axis=0)\n",
        "#assuming model is loaded already using load_model\n",
        "print(np.argmax(model.predict(img)))"
      ],
      "execution_count": null,
      "outputs": []
    }
  ]
}